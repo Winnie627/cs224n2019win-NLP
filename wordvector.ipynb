{
 "cells": [
  {
   "cell_type": "code",
   "execution_count": 5,
   "metadata": {},
   "outputs": [],
   "source": [
    "import numpy as np\n",
    "import matplotlib.pyplot as plt\n",
    "%matplotlib notebook\n",
    "plt.style.use('ggplot')\n",
    "\n",
    "from sklearn.decomposition import PCA\n",
    "from gensim.test.utils import datapath, get_tmpfile\n",
    "from gensim.models import KeyedVectors\n",
    "from gensim.scripts.glove2word2vec import glove2word2vec"
   ]
  },
  {
   "cell_type": "code",
   "execution_count": 3,
   "metadata": {},
   "outputs": [
    {
     "data": {
      "text/plain": [
       "(400000, 100)"
      ]
     },
     "execution_count": 3,
     "metadata": {},
     "output_type": "execute_result"
    }
   ],
   "source": [
    "glove_file = datapath('D:/nlp-data/glove6B/glove.6B.100d.txt')\n",
    "word2vec_glove_file = get_tmpfile(\"glove.6B.100d.word2vec.txt\")\n",
    "glove2word2vec(glove_file, word2vec_glove_file)"
   ]
  },
  {
   "cell_type": "code",
   "execution_count": 7,
   "metadata": {},
   "outputs": [],
   "source": [
    "model = KeyedVectors.load_word2vec_format(word2vec_glove_file)"
   ]
  },
  {
   "cell_type": "code",
   "execution_count": 8,
   "metadata": {},
   "outputs": [
    {
     "data": {
      "text/plain": [
       "[('barack', 0.937216579914093),\n",
       " ('bush', 0.927285373210907),\n",
       " ('clinton', 0.8960003852844238),\n",
       " ('mccain', 0.8875633478164673),\n",
       " ('gore', 0.8000321388244629),\n",
       " ('hillary', 0.7933663129806519),\n",
       " ('dole', 0.7851964235305786),\n",
       " ('rodham', 0.751889705657959),\n",
       " ('romney', 0.7488929629325867),\n",
       " ('kerry', 0.7472623586654663)]"
      ]
     },
     "execution_count": 8,
     "metadata": {},
     "output_type": "execute_result"
    }
   ],
   "source": [
    "model.most_similar('obama')"
   ]
  },
  {
   "cell_type": "code",
   "execution_count": 1,
   "metadata": {},
   "outputs": [
    {
     "name": "stdout",
     "output_type": "stream",
     "text": [
      "['D:\\\\JupyterNotebook\\\\NLP', 'D:\\\\Anaconda3\\\\envs\\\\tensorflow\\\\python37.zip', 'D:\\\\Anaconda3\\\\envs\\\\tensorflow\\\\DLLs', 'D:\\\\Anaconda3\\\\envs\\\\tensorflow\\\\lib', 'D:\\\\Anaconda3\\\\envs\\\\tensorflow', '', 'D:\\\\Anaconda3\\\\envs\\\\tensorflow\\\\lib\\\\site-packages', 'D:\\\\Anaconda3\\\\envs\\\\tensorflow\\\\lib\\\\site-packages\\\\win32', 'D:\\\\Anaconda3\\\\envs\\\\tensorflow\\\\lib\\\\site-packages\\\\win32\\\\lib', 'D:\\\\Anaconda3\\\\envs\\\\tensorflow\\\\lib\\\\site-packages\\\\Pythonwin', 'D:\\\\Anaconda3\\\\envs\\\\tensorflow\\\\lib\\\\site-packages\\\\IPython\\\\extensions', 'C:\\\\Users\\\\Winnie Xu\\\\.ipython']\n"
     ]
    }
   ],
   "source": [
    "import sys\n",
    "print(sys.path)"
   ]
  },
  {
   "cell_type": "code",
   "execution_count": null,
   "metadata": {},
   "outputs": [],
   "source": []
  }
 ],
 "metadata": {
  "kernelspec": {
   "display_name": "Python 3",
   "language": "python",
   "name": "python3"
  },
  "language_info": {
   "codemirror_mode": {
    "name": "ipython",
    "version": 3
   },
   "file_extension": ".py",
   "mimetype": "text/x-python",
   "name": "python",
   "nbconvert_exporter": "python",
   "pygments_lexer": "ipython3",
   "version": "3.7.0"
  }
 },
 "nbformat": 4,
 "nbformat_minor": 2
}
